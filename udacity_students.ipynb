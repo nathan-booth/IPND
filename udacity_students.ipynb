{
 "cells": [
  {
   "cell_type": "markdown",
   "metadata": {},
   "source": [
    "Import libaries you use at the start of the notebook in their own cell."
   ]
  },
  {
   "cell_type": "code",
   "execution_count": 26,
   "metadata": {
    "collapsed": true
   },
   "outputs": [],
   "source": [
    "import unicodecsv\n",
    "from datetime import datetime as dt"
   ]
  },
  {
   "cell_type": "markdown",
   "metadata": {},
   "source": [
    "Read in the CSVs and store as lists of dictionaries."
   ]
  },
  {
   "cell_type": "code",
   "execution_count": 27,
   "metadata": {
    "collapsed": false
   },
   "outputs": [
    {
     "name": "stdout",
     "output_type": "stream",
     "text": [
      "{u'status': u'canceled', u'is_udacity': u'True', u'is_canceled': u'True', u'join_date': u'2014-11-10', u'account_key': u'448', u'cancel_date': u'2015-01-14', u'days_to_cancel': u'65'}\n",
      "{u'lessons_completed': u'0.0', u'num_courses_visited': u'1.0', u'total_minutes_visited': u'11.6793745', u'projects_completed': u'0.0', u'acct': u'0', u'utc_date': u'2015-01-09'}\n",
      "{u'lesson_key': u'3176718735', u'processing_state': u'EVALUATED', u'account_key': u'256', u'assigned_rating': u'UNGRADED', u'completion_date': u'2015-01-16', u'creation_date': u'2015-01-14'}\n"
     ]
    }
   ],
   "source": [
    "def read_csv(filename):\n",
    "    with open(filename, 'rb') as f:\n",
    "        reader = unicodecsv.DictReader(f)\n",
    "        return list(reader)\n",
    "\n",
    "enrollments = read_csv('enrollments.csv')\n",
    "daily_engagement = read_csv('daily-engagement.csv')\n",
    "project_submissions = read_csv('project-submissions.csv')\n",
    "    \n",
    "print enrollments[0]\n",
    "print daily_engagement[0]\n",
    "print project_submissions[0]"
   ]
  },
  {
   "cell_type": "markdown",
   "metadata": {},
   "source": [
    "Fix some of the data types. Everything is stored as strings. Where appropriate, convert:\n",
    "* string dates to datetime objects\n",
    "* string numbers to type int\n",
    "* string Boolean values to type Bool\n",
    "* `daily_engagement`'s 'acct' key name to 'account_key'"
   ]
  },
  {
   "cell_type": "code",
   "execution_count": 28,
   "metadata": {
    "collapsed": false
   },
   "outputs": [
    {
     "data": {
      "text/plain": [
       "{u'account_key': u'448',\n",
       " u'cancel_date': datetime.datetime(2015, 1, 14, 0, 0),\n",
       " u'days_to_cancel': 65,\n",
       " u'is_canceled': True,\n",
       " u'is_udacity': True,\n",
       " u'join_date': datetime.datetime(2014, 11, 10, 0, 0),\n",
       " u'status': u'canceled'}"
      ]
     },
     "execution_count": 28,
     "metadata": {},
     "output_type": "execute_result"
    }
   ],
   "source": [
    "def parse_date(date):\n",
    "    if date == \"\":\n",
    "        return None\n",
    "    else: return dt.strptime(date, \"%Y-%m-%d\")\n",
    "\n",
    "def parse_maybe_int(i):\n",
    "    if i == \"\":\n",
    "        return None\n",
    "    else:\n",
    "        return int(i)\n",
    "    \n",
    "for enrollment in enrollments:\n",
    "    enrollment['cancel_date'] = parse_date(enrollment['cancel_date'])\n",
    "    enrollment['join_date'] = parse_date(enrollment['join_date'])\n",
    "    enrollment['days_to_cancel'] = parse_maybe_int(enrollment['days_to_cancel'])\n",
    "    enrollment['is_canceled'] = enrollment['is_canceled'] == 'True'\n",
    "    enrollment['is_udacity'] = enrollment['is_udacity'] == 'True'\n",
    "\n",
    "enrollments[0]"
   ]
  },
  {
   "cell_type": "code",
   "execution_count": 29,
   "metadata": {
    "collapsed": false
   },
   "outputs": [
    {
     "data": {
      "text/plain": [
       "{'account_key': u'0',\n",
       " u'lessons_completed': 0,\n",
       " u'num_courses_visited': 1,\n",
       " u'projects_completed': 0,\n",
       " u'total_minutes_visited': 11,\n",
       " u'utc_date': datetime.datetime(2015, 1, 9, 0, 0)}"
      ]
     },
     "execution_count": 29,
     "metadata": {},
     "output_type": "execute_result"
    }
   ],
   "source": [
    "for engagement in daily_engagement:\n",
    "    engagement['lessons_completed'] = int(float(engagement['lessons_completed']))\n",
    "    engagement['num_courses_visited'] = int(float(engagement['num_courses_visited']))\n",
    "    engagement['projects_completed'] = int(float(engagement['projects_completed']))\n",
    "    engagement['total_minutes_visited'] = int(float(engagement['total_minutes_visited']))\n",
    "    engagement['utc_date'] = parse_date(engagement['utc_date'])\n",
    "    engagement['account_key'] = engagement['acct']\n",
    "    del[engagement['acct']]\n",
    "    \n",
    "daily_engagement[0]"
   ]
  },
  {
   "cell_type": "code",
   "execution_count": 30,
   "metadata": {
    "collapsed": false
   },
   "outputs": [
    {
     "data": {
      "text/plain": [
       "{u'account_key': u'256',\n",
       " u'assigned_rating': u'UNGRADED',\n",
       " u'completion_date': datetime.datetime(2015, 1, 16, 0, 0),\n",
       " u'creation_date': datetime.datetime(2015, 1, 14, 0, 0),\n",
       " u'lesson_key': u'3176718735',\n",
       " u'processing_state': u'EVALUATED'}"
      ]
     },
     "execution_count": 30,
     "metadata": {},
     "output_type": "execute_result"
    }
   ],
   "source": [
    "for submission in project_submissions:\n",
    "    submission['creation_date'] = parse_date(submission['creation_date'])\n",
    "    submission['completion_date'] = parse_date(submission['completion_date'])\n",
    "    \n",
    "project_submissions[0]"
   ]
  },
  {
   "cell_type": "markdown",
   "metadata": {},
   "source": [
    "Identify the number of student records for each file and the unique students in each file."
   ]
  },
  {
   "cell_type": "code",
   "execution_count": 37,
   "metadata": {
    "collapsed": false
   },
   "outputs": [
    {
     "name": "stdout",
     "output_type": "stream",
     "text": [
      "Unique enrollments: 1302\n",
      "Unique engagement students: 1237\n",
      "Unique project submitters: 743\n"
     ]
    }
   ],
   "source": [
    "def get_unique_stu(data):\n",
    "    unique_stu = set()\n",
    "    for data_pt in data:\n",
    "        unique_stu.add(data_pt['account_key'])\n",
    "    return unique_stu\n",
    "\n",
    "unique_enrollments = get_unique_stu(enrollments)\n",
    "unique_engagement_stu = get_unique_stu(daily_engagement)\n",
    "unique_project_submitters = get_unique_stu(project_submissions)\n",
    "\n",
    "print \"Unique enrollments:\", len(unique_enrollments)\n",
    "print \"Unique engagement students:\", len(unique_engagement_stu)\n",
    "print \"Unique project submitters:\",len(unique_project_submitters)"
   ]
  },
  {
   "cell_type": "markdown",
   "metadata": {},
   "source": [
    "What is an example student present in `enrollments` data and missing in `unique_engagement_stu` data?"
   ]
  },
  {
   "cell_type": "code",
   "execution_count": 35,
   "metadata": {
    "collapsed": false
   },
   "outputs": [
    {
     "name": "stdout",
     "output_type": "stream",
     "text": [
      "{u'status': u'canceled', u'is_udacity': False, u'is_canceled': True, u'join_date': datetime.datetime(2014, 11, 12, 0, 0), u'account_key': u'1219', u'cancel_date': datetime.datetime(2014, 11, 12, 0, 0), u'days_to_cancel': 0}\n"
     ]
    }
   ],
   "source": [
    "for enrollment in enrollments:\n",
    "    stu = enrollment['account_key']\n",
    "    if stu not in unique_engagement_stu:\n",
    "        print enrollment\n",
    "        break"
   ]
  },
  {
   "cell_type": "markdown",
   "metadata": {},
   "source": [
    "This is a Udacity dummy account. How many other students are missing from the engagement data?"
   ]
  },
  {
   "cell_type": "code",
   "execution_count": 38,
   "metadata": {
    "collapsed": false
   },
   "outputs": [
    {
     "name": "stdout",
     "output_type": "stream",
     "text": [
      "{u'status': u'canceled', u'is_udacity': True, u'is_canceled': True, u'join_date': datetime.datetime(2015, 1, 10, 0, 0), u'account_key': u'1304', u'cancel_date': datetime.datetime(2015, 3, 10, 0, 0), u'days_to_cancel': 59}\n",
      "{u'status': u'canceled', u'is_udacity': True, u'is_canceled': True, u'join_date': datetime.datetime(2015, 3, 10, 0, 0), u'account_key': u'1304', u'cancel_date': datetime.datetime(2015, 6, 17, 0, 0), u'days_to_cancel': 99}\n",
      "{u'status': u'current', u'is_udacity': True, u'is_canceled': False, u'join_date': datetime.datetime(2015, 2, 25, 0, 0), u'account_key': u'1101', u'cancel_date': None, u'days_to_cancel': None}\n"
     ]
    },
    {
     "data": {
      "text/plain": [
       "3"
      ]
     },
     "execution_count": 38,
     "metadata": {},
     "output_type": "execute_result"
    }
   ],
   "source": [
    "num_prob_stu = 0\n",
    "for enrollment in enrollments:\n",
    "    stu = enrollment['account_key']\n",
    "    if stu not in unique_engagement_stu and enrollment['join_date'] != enrollment['cancel_date']:\n",
    "        num_prob_stu += 1\n",
    "        print enrollment\n",
    "        \n",
    "num_prob_stu"
   ]
  },
  {
   "cell_type": "markdown",
   "metadata": {},
   "source": [
    "All three are Udacity test accounts, not real students. How many test accounts exist?"
   ]
  },
  {
   "cell_type": "code",
   "execution_count": 41,
   "metadata": {
    "collapsed": false
   },
   "outputs": [
    {
     "data": {
      "text/plain": [
       "6"
      ]
     },
     "execution_count": 41,
     "metadata": {},
     "output_type": "execute_result"
    }
   ],
   "source": [
    "udacity_test_accounts = set()\n",
    "for enrollment in enrollments:\n",
    "    if enrollment['is_udacity']:\n",
    "        udacity_test_accounts.add(enrollment['account_key'])\n",
    "\n",
    "len(udacity_test_accounts)"
   ]
  },
  {
   "cell_type": "markdown",
   "metadata": {},
   "source": [
    "Remove the test accounts."
   ]
  },
  {
   "cell_type": "code",
   "execution_count": 54,
   "metadata": {
    "collapsed": false
   },
   "outputs": [
    {
     "name": "stdout",
     "output_type": "stream",
     "text": [
      "1622\n",
      "135656\n",
      "3634\n"
     ]
    },
    {
     "data": {
      "text/plain": [
       "{'account_key': u'0',\n",
       " u'lessons_completed': 0,\n",
       " u'num_courses_visited': 1,\n",
       " u'projects_completed': 0,\n",
       " u'total_minutes_visited': 11,\n",
       " u'utc_date': datetime.datetime(2015, 1, 9, 0, 0)}"
      ]
     },
     "execution_count": 54,
     "metadata": {},
     "output_type": "execute_result"
    }
   ],
   "source": [
    "def remove_udacity_accounts(data):\n",
    "    non_udacity_data = []\n",
    "    for datum in data:\n",
    "        if datum['account_key'] not in udacity_test_accounts:\n",
    "            non_udacity_data.append(datum)\n",
    "    return non_udacity_data\n",
    "\n",
    "non_udacity_enrollments = remove_udacity_accounts(enrollments)\n",
    "non_udacity_engagements = remove_udacity_accounts(daily_engagement)\n",
    "non_udacity_submissions = remove_udacity_accounts(project_submissions)\n",
    "\n",
    "print len(non_udacity_enrollments)\n",
    "print len(non_udacity_engagements)\n",
    "print len(non_udacity_submissions)\n",
    "non_udacity_engagements[0]"
   ]
  },
  {
   "cell_type": "markdown",
   "metadata": {},
   "source": [
    "Create a dictionary of paid students."
   ]
  },
  {
   "cell_type": "code",
   "execution_count": 51,
   "metadata": {
    "collapsed": false
   },
   "outputs": [
    {
     "data": {
      "text/plain": [
       "995"
      ]
     },
     "execution_count": 51,
     "metadata": {},
     "output_type": "execute_result"
    }
   ],
   "source": [
    "paid_students = dict()\n",
    "for enrollment in non_udacity_enrollments:\n",
    "    if not enrollment['is_canceled'] or enrollment['days_to_cancel'] > 7: # alt: enrollment['days_to_cancel] == None\n",
    "        if enrollment['account_key'] not in paid_students or \\\n",
    "        enrollment['join_date'] > paid_students[enrollment['account_key']]:\n",
    "            paid_students[enrollment['account_key']] = enrollment['join_date'] # dict[key] = value\n",
    "        \n",
    "len(paid_students)"
   ]
  },
  {
   "cell_type": "markdown",
   "metadata": {},
   "source": [
    "Remove move free trial cancellations."
   ]
  },
  {
   "cell_type": "code",
   "execution_count": 55,
   "metadata": {
    "collapsed": false
   },
   "outputs": [
    {
     "name": "stdout",
     "output_type": "stream",
     "text": [
      "1293\n",
      "134549\n",
      "3618\n"
     ]
    }
   ],
   "source": [
    "def remove_free_trial_cancellations(data):\n",
    "    ndata = []\n",
    "    for datum in data:\n",
    "        if datum['account_key'] in paid_students:\n",
    "            ndata.append(datum)\n",
    "    return ndata\n",
    "\n",
    "paid_enrollments = remove_free_trial_cancellations(non_udacity_enrollments)\n",
    "paid_engagement = remove_free_trial_cancellations(non_udacity_engagements)\n",
    "paid_submissions = remove_free_trial_cancellations(non_udacity_submissions)\n",
    "\n",
    "print len(paid_enrollments)\n",
    "print len(paid_engagement)\n",
    "print len(paid_submissions)"
   ]
  },
  {
   "cell_type": "markdown",
   "metadata": {},
   "source": [
    "Collect engagement data for the first week in a list."
   ]
  },
  {
   "cell_type": "code",
   "execution_count": 56,
   "metadata": {
    "collapsed": false
   },
   "outputs": [
    {
     "data": {
      "text/plain": [
       "21508"
      ]
     },
     "execution_count": 56,
     "metadata": {},
     "output_type": "execute_result"
    }
   ],
   "source": [
    "def within_one_week(join_date, engagement_date):\n",
    "    time_delta = engagement_date - join_date\n",
    "    return time_delta.days < 7\n",
    "\n",
    "paid_engagement_in_first_wk = list()\n",
    "for engagement in paid_engagement:\n",
    "    if within_one_week(paid_students[engagement['account_key']], engagement['utc_date']):\n",
    "        paid_engagement_in_first_wk.append(engagement)\n",
    "\n",
    "len(paid_engagement_in_first_wk)"
   ]
  }
 ],
 "metadata": {
  "kernelspec": {
   "display_name": "Python 2",
   "language": "python",
   "name": "python2"
  },
  "language_info": {
   "codemirror_mode": {
    "name": "ipython",
    "version": 2
   },
   "file_extension": ".py",
   "mimetype": "text/x-python",
   "name": "python",
   "nbconvert_exporter": "python",
   "pygments_lexer": "ipython2",
   "version": "2.7.13"
  }
 },
 "nbformat": 4,
 "nbformat_minor": 0
}
